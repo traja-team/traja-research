{
 "cells": [
  {
   "cell_type": "code",
   "execution_count": 1,
   "metadata": {
    "_cell_guid": "8a8082aa-8eff-c44b-df13-3f2d448295f0"
   },
   "outputs": [],
   "source": [
    "import pandas as pd\n",
    "import numpy as np\n",
    "import traja\n",
    "import matplotlib.pyplot as plt\n",
    "%matplotlib inline"
   ]
  },
  {
   "cell_type": "code",
   "execution_count": 2,
   "metadata": {
    "_cell_guid": "25e28ee8-340e-3a4c-f509-01444c3ddb6d"
   },
   "outputs": [
    {
     "name": "stderr",
     "output_type": "stream",
     "text": [
      "C:\\Users\\wolfb\\AppData\\Roaming\\Python\\Python38\\site-packages\\IPython\\core\\interactiveshell.py:3145: DtypeWarning: Columns (5) have mixed types.Specify dtype option on import or set low_memory=False.\n",
      "  has_raised = await self.run_ast_nodes(code_ast.body, cell_name,\n"
     ]
    }
   ],
   "source": [
    "dataset = pd.read_csv('./jaguar117/jaguar_movement_data.csv')"
   ]
  },
  {
   "cell_type": "code",
   "execution_count": 3,
   "metadata": {
    "_cell_guid": "5641e0a6-26d4-0c81-c06e-3892fe58a316"
   },
   "outputs": [
    {
     "data": {
      "text/plain": [
       "Index(['Event_ID', 'timestamp', 'location.long', 'location.lat',\n",
       "       'individual.taxon.canonical.name', 'tag.local.identifier',\n",
       "       'individual.local.identifier (ID)', 'study.name', 'country'],\n",
       "      dtype='object')"
      ]
     },
     "execution_count": 3,
     "metadata": {},
     "output_type": "execute_result"
    }
   ],
   "source": [
    "dataset.columns"
   ]
  },
  {
   "cell_type": "code",
   "execution_count": 4,
   "metadata": {
    "_cell_guid": "03bcc0dd-4db7-ab51-e59a-ea27c9fb9bf0"
   },
   "outputs": [
    {
     "data": {
      "text/html": [
       "<div>\n",
       "<style scoped>\n",
       "    .dataframe tbody tr th:only-of-type {\n",
       "        vertical-align: middle;\n",
       "    }\n",
       "\n",
       "    .dataframe tbody tr th {\n",
       "        vertical-align: top;\n",
       "    }\n",
       "\n",
       "    .dataframe thead th {\n",
       "        text-align: right;\n",
       "    }\n",
       "</style>\n",
       "<table border=\"1\" class=\"dataframe\">\n",
       "  <thead>\n",
       "    <tr style=\"text-align: right;\">\n",
       "      <th></th>\n",
       "      <th>Event_ID</th>\n",
       "      <th>timestamp</th>\n",
       "      <th>location.long</th>\n",
       "      <th>location.lat</th>\n",
       "      <th>individual.taxon.canonical.name</th>\n",
       "      <th>tag.local.identifier</th>\n",
       "      <th>individual.local.identifier (ID)</th>\n",
       "      <th>study.name</th>\n",
       "      <th>country</th>\n",
       "    </tr>\n",
       "  </thead>\n",
       "  <tbody>\n",
       "    <tr>\n",
       "      <th>0</th>\n",
       "      <td>1.0</td>\n",
       "      <td>6/15/10 22:43</td>\n",
       "      <td>-58.030128</td>\n",
       "      <td>-23.326947</td>\n",
       "      <td>Panthera onca</td>\n",
       "      <td>0-333005</td>\n",
       "      <td>1</td>\n",
       "      <td>Humid Chaco</td>\n",
       "      <td>Paraguay</td>\n",
       "    </tr>\n",
       "    <tr>\n",
       "      <th>1</th>\n",
       "      <td>2.0</td>\n",
       "      <td>6/16/10 2:52</td>\n",
       "      <td>-58.030643</td>\n",
       "      <td>-23.328427</td>\n",
       "      <td>Panthera onca</td>\n",
       "      <td>0-333005</td>\n",
       "      <td>1</td>\n",
       "      <td>Humid Chaco</td>\n",
       "      <td>Paraguay</td>\n",
       "    </tr>\n",
       "    <tr>\n",
       "      <th>2</th>\n",
       "      <td>3.0</td>\n",
       "      <td>6/16/10 22:36</td>\n",
       "      <td>-58.030472</td>\n",
       "      <td>-23.327311</td>\n",
       "      <td>Panthera onca</td>\n",
       "      <td>0-333005</td>\n",
       "      <td>1</td>\n",
       "      <td>Humid Chaco</td>\n",
       "      <td>Paraguay</td>\n",
       "    </tr>\n",
       "    <tr>\n",
       "      <th>3</th>\n",
       "      <td>4.0</td>\n",
       "      <td>6/17/10 16:42</td>\n",
       "      <td>-58.027983</td>\n",
       "      <td>-23.309952</td>\n",
       "      <td>Panthera onca</td>\n",
       "      <td>0-333005</td>\n",
       "      <td>1</td>\n",
       "      <td>Humid Chaco</td>\n",
       "      <td>Paraguay</td>\n",
       "    </tr>\n",
       "    <tr>\n",
       "      <th>4</th>\n",
       "      <td>5.0</td>\n",
       "      <td>6/17/10 20:37</td>\n",
       "      <td>-58.027747</td>\n",
       "      <td>-23.310006</td>\n",
       "      <td>Panthera onca</td>\n",
       "      <td>0-333005</td>\n",
       "      <td>1</td>\n",
       "      <td>Humid Chaco</td>\n",
       "      <td>Paraguay</td>\n",
       "    </tr>\n",
       "  </tbody>\n",
       "</table>\n",
       "</div>"
      ],
      "text/plain": [
       "   Event_ID      timestamp  location.long  location.lat  \\\n",
       "0       1.0  6/15/10 22:43     -58.030128    -23.326947   \n",
       "1       2.0   6/16/10 2:52     -58.030643    -23.328427   \n",
       "2       3.0  6/16/10 22:36     -58.030472    -23.327311   \n",
       "3       4.0  6/17/10 16:42     -58.027983    -23.309952   \n",
       "4       5.0  6/17/10 20:37     -58.027747    -23.310006   \n",
       "\n",
       "  individual.taxon.canonical.name tag.local.identifier  \\\n",
       "0                   Panthera onca             0-333005   \n",
       "1                   Panthera onca             0-333005   \n",
       "2                   Panthera onca             0-333005   \n",
       "3                   Panthera onca             0-333005   \n",
       "4                   Panthera onca             0-333005   \n",
       "\n",
       "   individual.local.identifier (ID)   study.name   country  \n",
       "0                                 1  Humid Chaco  Paraguay  \n",
       "1                                 1  Humid Chaco  Paraguay  \n",
       "2                                 1  Humid Chaco  Paraguay  \n",
       "3                                 1  Humid Chaco  Paraguay  \n",
       "4                                 1  Humid Chaco  Paraguay  "
      ]
     },
     "execution_count": 4,
     "metadata": {},
     "output_type": "execute_result"
    }
   ],
   "source": [
    "dataset.head()"
   ]
  },
  {
   "cell_type": "markdown",
   "metadata": {},
   "source": [
    "### We are interested only in longitude(x) and latitude(y) of individual animal\n"
   ]
  },
  {
   "cell_type": "code",
   "execution_count": 5,
   "metadata": {},
   "outputs": [],
   "source": [
    "# Pick the trajectory of animal 5\n",
    "dataset_individual_5= dataset[dataset['individual.local.identifier (ID)'] == 5]"
   ]
  },
  {
   "cell_type": "code",
   "execution_count": 6,
   "metadata": {},
   "outputs": [
    {
     "data": {
      "text/html": [
       "<div>\n",
       "<style scoped>\n",
       "    .dataframe tbody tr th:only-of-type {\n",
       "        vertical-align: middle;\n",
       "    }\n",
       "\n",
       "    .dataframe tbody tr th {\n",
       "        vertical-align: top;\n",
       "    }\n",
       "\n",
       "    .dataframe thead th {\n",
       "        text-align: right;\n",
       "    }\n",
       "</style>\n",
       "<table border=\"1\" class=\"dataframe\">\n",
       "  <thead>\n",
       "    <tr style=\"text-align: right;\">\n",
       "      <th></th>\n",
       "      <th>Event_ID</th>\n",
       "      <th>timestamp</th>\n",
       "      <th>location.long</th>\n",
       "      <th>location.lat</th>\n",
       "      <th>individual.taxon.canonical.name</th>\n",
       "      <th>tag.local.identifier</th>\n",
       "      <th>individual.local.identifier (ID)</th>\n",
       "      <th>study.name</th>\n",
       "      <th>country</th>\n",
       "    </tr>\n",
       "  </thead>\n",
       "  <tbody>\n",
       "    <tr>\n",
       "      <th>1086</th>\n",
       "      <td>1087.0</td>\n",
       "      <td>7/25/09 13:06</td>\n",
       "      <td>-58.126640</td>\n",
       "      <td>-23.348278</td>\n",
       "      <td>Panthera onca</td>\n",
       "      <td>356982</td>\n",
       "      <td>5</td>\n",
       "      <td>Humid Chaco</td>\n",
       "      <td>Paraguay</td>\n",
       "    </tr>\n",
       "    <tr>\n",
       "      <th>1087</th>\n",
       "      <td>1088.0</td>\n",
       "      <td>7/25/09 17:06</td>\n",
       "      <td>-58.125679</td>\n",
       "      <td>-23.349407</td>\n",
       "      <td>Panthera onca</td>\n",
       "      <td>356982</td>\n",
       "      <td>5</td>\n",
       "      <td>Humid Chaco</td>\n",
       "      <td>Paraguay</td>\n",
       "    </tr>\n",
       "    <tr>\n",
       "      <th>1088</th>\n",
       "      <td>1089.0</td>\n",
       "      <td>7/25/09 21:06</td>\n",
       "      <td>-58.125679</td>\n",
       "      <td>-23.348764</td>\n",
       "      <td>Panthera onca</td>\n",
       "      <td>356982</td>\n",
       "      <td>5</td>\n",
       "      <td>Humid Chaco</td>\n",
       "      <td>Paraguay</td>\n",
       "    </tr>\n",
       "    <tr>\n",
       "      <th>1089</th>\n",
       "      <td>1090.0</td>\n",
       "      <td>7/26/09 1:06</td>\n",
       "      <td>-58.126945</td>\n",
       "      <td>-23.347700</td>\n",
       "      <td>Panthera onca</td>\n",
       "      <td>356982</td>\n",
       "      <td>5</td>\n",
       "      <td>Humid Chaco</td>\n",
       "      <td>Paraguay</td>\n",
       "    </tr>\n",
       "    <tr>\n",
       "      <th>1090</th>\n",
       "      <td>1091.0</td>\n",
       "      <td>7/26/09 5:06</td>\n",
       "      <td>-58.127079</td>\n",
       "      <td>-23.347908</td>\n",
       "      <td>Panthera onca</td>\n",
       "      <td>356982</td>\n",
       "      <td>5</td>\n",
       "      <td>Humid Chaco</td>\n",
       "      <td>Paraguay</td>\n",
       "    </tr>\n",
       "  </tbody>\n",
       "</table>\n",
       "</div>"
      ],
      "text/plain": [
       "      Event_ID      timestamp  location.long  location.lat  \\\n",
       "1086    1087.0  7/25/09 13:06     -58.126640    -23.348278   \n",
       "1087    1088.0  7/25/09 17:06     -58.125679    -23.349407   \n",
       "1088    1089.0  7/25/09 21:06     -58.125679    -23.348764   \n",
       "1089    1090.0   7/26/09 1:06     -58.126945    -23.347700   \n",
       "1090    1091.0   7/26/09 5:06     -58.127079    -23.347908   \n",
       "\n",
       "     individual.taxon.canonical.name tag.local.identifier  \\\n",
       "1086                   Panthera onca               356982   \n",
       "1087                   Panthera onca               356982   \n",
       "1088                   Panthera onca               356982   \n",
       "1089                   Panthera onca               356982   \n",
       "1090                   Panthera onca               356982   \n",
       "\n",
       "      individual.local.identifier (ID)   study.name   country  \n",
       "1086                                 5  Humid Chaco  Paraguay  \n",
       "1087                                 5  Humid Chaco  Paraguay  \n",
       "1088                                 5  Humid Chaco  Paraguay  \n",
       "1089                                 5  Humid Chaco  Paraguay  \n",
       "1090                                 5  Humid Chaco  Paraguay  "
      ]
     },
     "execution_count": 6,
     "metadata": {},
     "output_type": "execute_result"
    }
   ],
   "source": [
    "dataset_individual_5.head()"
   ]
  },
  {
   "cell_type": "code",
   "execution_count": 7,
   "metadata": {},
   "outputs": [
    {
     "data": {
      "text/html": [
       "<div>\n",
       "<style scoped>\n",
       "    .dataframe tbody tr th:only-of-type {\n",
       "        vertical-align: middle;\n",
       "    }\n",
       "\n",
       "    .dataframe tbody tr th {\n",
       "        vertical-align: top;\n",
       "    }\n",
       "\n",
       "    .dataframe thead th {\n",
       "        text-align: right;\n",
       "    }\n",
       "</style>\n",
       "<table border=\"1\" class=\"dataframe\">\n",
       "  <thead>\n",
       "    <tr style=\"text-align: right;\">\n",
       "      <th></th>\n",
       "      <th>location.long</th>\n",
       "      <th>location.lat</th>\n",
       "    </tr>\n",
       "  </thead>\n",
       "  <tbody>\n",
       "    <tr>\n",
       "      <th>1086</th>\n",
       "      <td>-58.126640</td>\n",
       "      <td>-23.348278</td>\n",
       "    </tr>\n",
       "    <tr>\n",
       "      <th>1087</th>\n",
       "      <td>-58.125679</td>\n",
       "      <td>-23.349407</td>\n",
       "    </tr>\n",
       "    <tr>\n",
       "      <th>1088</th>\n",
       "      <td>-58.125679</td>\n",
       "      <td>-23.348764</td>\n",
       "    </tr>\n",
       "    <tr>\n",
       "      <th>1089</th>\n",
       "      <td>-58.126945</td>\n",
       "      <td>-23.347700</td>\n",
       "    </tr>\n",
       "    <tr>\n",
       "      <th>1090</th>\n",
       "      <td>-58.127079</td>\n",
       "      <td>-23.347908</td>\n",
       "    </tr>\n",
       "  </tbody>\n",
       "</table>\n",
       "</div>"
      ],
      "text/plain": [
       "      location.long  location.lat\n",
       "1086     -58.126640    -23.348278\n",
       "1087     -58.125679    -23.349407\n",
       "1088     -58.125679    -23.348764\n",
       "1089     -58.126945    -23.347700\n",
       "1090     -58.127079    -23.347908"
      ]
     },
     "execution_count": 7,
     "metadata": {},
     "output_type": "execute_result"
    }
   ],
   "source": [
    "### Create new dataframe with x and y alone\n",
    "dataset_individual_5_traj = dataset_individual_5[['location.long','location.lat']]\n",
    "dataset_individual_5_traj.head()"
   ]
  },
  {
   "cell_type": "code",
   "execution_count": 8,
   "metadata": {},
   "outputs": [
    {
     "name": "stderr",
     "output_type": "stream",
     "text": [
      "C:\\Users\\wolfb\\AppData\\Roaming\\Python\\Python38\\site-packages\\pandas\\core\\frame.py:4295: SettingWithCopyWarning: \n",
      "A value is trying to be set on a copy of a slice from a DataFrame\n",
      "\n",
      "See the caveats in the documentation: https://pandas.pydata.org/pandas-docs/stable/user_guide/indexing.html#returning-a-view-versus-a-copy\n",
      "  return super().rename(\n"
     ]
    }
   ],
   "source": [
    "dataset_individual_5_traj.rename(columns={'location.long':'x_col',\n",
    "                          'location.lat':'y_col'}, \n",
    "                 inplace=True)"
   ]
  },
  {
   "cell_type": "code",
   "execution_count": 9,
   "metadata": {},
   "outputs": [
    {
     "data": {
      "text/html": [
       "<div>\n",
       "<style scoped>\n",
       "    .dataframe tbody tr th:only-of-type {\n",
       "        vertical-align: middle;\n",
       "    }\n",
       "\n",
       "    .dataframe tbody tr th {\n",
       "        vertical-align: top;\n",
       "    }\n",
       "\n",
       "    .dataframe thead th {\n",
       "        text-align: right;\n",
       "    }\n",
       "</style>\n",
       "<table border=\"1\" class=\"dataframe\">\n",
       "  <thead>\n",
       "    <tr style=\"text-align: right;\">\n",
       "      <th></th>\n",
       "      <th>x_col</th>\n",
       "      <th>y_col</th>\n",
       "    </tr>\n",
       "  </thead>\n",
       "  <tbody>\n",
       "    <tr>\n",
       "      <th>1086</th>\n",
       "      <td>-58.126640</td>\n",
       "      <td>-23.348278</td>\n",
       "    </tr>\n",
       "    <tr>\n",
       "      <th>1087</th>\n",
       "      <td>-58.125679</td>\n",
       "      <td>-23.349407</td>\n",
       "    </tr>\n",
       "    <tr>\n",
       "      <th>1088</th>\n",
       "      <td>-58.125679</td>\n",
       "      <td>-23.348764</td>\n",
       "    </tr>\n",
       "    <tr>\n",
       "      <th>1089</th>\n",
       "      <td>-58.126945</td>\n",
       "      <td>-23.347700</td>\n",
       "    </tr>\n",
       "    <tr>\n",
       "      <th>1090</th>\n",
       "      <td>-58.127079</td>\n",
       "      <td>-23.347908</td>\n",
       "    </tr>\n",
       "  </tbody>\n",
       "</table>\n",
       "</div>"
      ],
      "text/plain": [
       "          x_col      y_col\n",
       "1086 -58.126640 -23.348278\n",
       "1087 -58.125679 -23.349407\n",
       "1088 -58.125679 -23.348764\n",
       "1089 -58.126945 -23.347700\n",
       "1090 -58.127079 -23.347908"
      ]
     },
     "execution_count": 9,
     "metadata": {},
     "output_type": "execute_result"
    }
   ],
   "source": [
    "dataset_individual_5_traj.head()"
   ]
  },
  {
   "cell_type": "markdown",
   "metadata": {},
   "source": [
    "### Now this is my dataset. Download it as csv and use it for trajactory analysis using traja"
   ]
  },
  {
   "cell_type": "code",
   "execution_count": 10,
   "metadata": {},
   "outputs": [],
   "source": [
    "dataset_individual_5_traj.to_csv(\"./jaguar117/dataset_individual_5_traj.csv\", encoding='utf-8')"
   ]
  },
  {
   "cell_type": "markdown",
   "metadata": {},
   "source": [
    "#### Read the filtered dataset using traja "
   ]
  },
  {
   "cell_type": "code",
   "execution_count": 11,
   "metadata": {},
   "outputs": [
    {
     "data": {
      "text/html": [
       "<div>\n",
       "<style scoped>\n",
       "    .dataframe tbody tr th:only-of-type {\n",
       "        vertical-align: middle;\n",
       "    }\n",
       "\n",
       "    .dataframe tbody tr th {\n",
       "        vertical-align: top;\n",
       "    }\n",
       "\n",
       "    .dataframe thead th {\n",
       "        text-align: right;\n",
       "    }\n",
       "</style>\n",
       "<table border=\"1\" class=\"dataframe\">\n",
       "  <thead>\n",
       "    <tr style=\"text-align: right;\">\n",
       "      <th></th>\n",
       "      <th>x_col</th>\n",
       "      <th>y_col</th>\n",
       "    </tr>\n",
       "  </thead>\n",
       "  <tbody>\n",
       "    <tr>\n",
       "      <th>0</th>\n",
       "      <td>-58.126640</td>\n",
       "      <td>-23.348278</td>\n",
       "    </tr>\n",
       "    <tr>\n",
       "      <th>1</th>\n",
       "      <td>-58.125679</td>\n",
       "      <td>-23.349407</td>\n",
       "    </tr>\n",
       "    <tr>\n",
       "      <th>2</th>\n",
       "      <td>-58.125679</td>\n",
       "      <td>-23.348764</td>\n",
       "    </tr>\n",
       "    <tr>\n",
       "      <th>3</th>\n",
       "      <td>-58.126945</td>\n",
       "      <td>-23.347700</td>\n",
       "    </tr>\n",
       "    <tr>\n",
       "      <th>4</th>\n",
       "      <td>-58.127079</td>\n",
       "      <td>-23.347908</td>\n",
       "    </tr>\n",
       "  </tbody>\n",
       "</table>\n",
       "</div>"
      ],
      "text/plain": [
       "       x_col      y_col\n",
       "0 -58.126640 -23.348278\n",
       "1 -58.125679 -23.349407\n",
       "2 -58.125679 -23.348764\n",
       "3 -58.126945 -23.347700\n",
       "4 -58.127079 -23.347908"
      ]
     },
     "execution_count": 11,
     "metadata": {},
     "output_type": "execute_result"
    }
   ],
   "source": [
    "df = traja.read_file('./jaguar117/dataset_individual_5_traj.csv')  # index = False for unnamed column\n",
    "del df['Unnamed: 0']\n",
    "df.head()"
   ]
  },
  {
   "cell_type": "code",
   "execution_count": 12,
   "metadata": {},
   "outputs": [],
   "source": [
    "columns = {'x_col': 'x', 'y_col': 'y'}\n",
    "df = df.rename(columns=columns)"
   ]
  },
  {
   "cell_type": "code",
   "execution_count": 13,
   "metadata": {},
   "outputs": [
    {
     "data": {
      "text/plain": [
       "<matplotlib.collections.PathCollection at 0x252aed70700>"
      ]
     },
     "execution_count": 13,
     "metadata": {},
     "output_type": "execute_result"
    },
    {
     "data": {
      "image/png": "[encoded data removed]",
      "text/plain": [
       "<Figure size 432x288 with 2 Axes>"
      ]
     },
     "metadata": {
      "needs_background": "light"
     },
     "output_type": "display_data"
    }
   ],
   "source": [
    "df.traja.plot()"
   ]
  },
  {
   "cell_type": "code",
   "execution_count": null,
   "metadata": {},
   "outputs": [],
   "source": []
  }
 ],
 "metadata": {
  "_change_revision": 4,
  "_is_fork": false,
  "kernelspec": {
   "display_name": "Python 3",
   "language": "python",
   "name": "python3"
  },
  "language_info": {
   "codemirror_mode": {
    "name": "ipython",
    "version": 3
   },
   "file_extension": ".py",
   "mimetype": "text/x-python",
   "name": "python",
   "nbconvert_exporter": "python",
   "pygments_lexer": "ipython3",
   "version": "3.8.5"
  }
 },
 "nbformat": 4,
 "nbformat_minor": 4
}
